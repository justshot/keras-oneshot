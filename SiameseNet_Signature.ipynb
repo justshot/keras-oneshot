{
 "cells": [
  {
   "cell_type": "markdown",
   "metadata": {},
   "source": [
    "## Import Python Modules"
   ]
  },
  {
   "cell_type": "code",
   "execution_count": 4,
   "metadata": {},
   "outputs": [],
   "source": [
    "from keras.layers import Input, Conv2D, Lambda, merge, Dense, Flatten,MaxPooling2D\n",
    "from keras.models import Model, Sequential\n",
    "from keras.regularizers import l2\n",
    "from keras import backend as K\n",
    "from keras.optimizers import SGD,Adam\n",
    "from keras.losses import binary_crossentropy\n",
    "import numpy.random as rng\n",
    "import numpy as np\n",
    "import os\n",
    "import pickle\n",
    "import time\n",
    "import datetime\n",
    "import matplotlib.pyplot as plt\n",
    "import log_analyzer as pltutils\n",
    "import seaborn as sns\n",
    "from sklearn.utils import shuffle"
   ]
  },
  {
   "cell_type": "markdown",
   "metadata": {},
   "source": [
    "## Create Model"
   ]
  },
  {
   "cell_type": "code",
   "execution_count": 5,
   "metadata": {},
   "outputs": [],
   "source": [
    "%matplotlib inline\n",
    "def W_init(shape,name=None):\n",
    "    \"\"\"Initialize weights as in paper\"\"\"\n",
    "    values = rng.normal(loc=0,scale=1e-2,size=shape)\n",
    "    return K.variable(values,name=name)\n",
    "#//TODO: figure out how to initialize layer biases in keras.\n",
    "def b_init(shape,name=None):\n",
    "    \"\"\"Initialize bias as in paper\"\"\"\n",
    "    values=rng.normal(loc=0.5,scale=1e-2,size=shape)\n",
    "    return K.variable(values,name=name)\n",
    "\n",
    "def create_model():\n",
    "    input_shape = (105, 105, 1)\n",
    "    left_input = Input(input_shape)\n",
    "    right_input = Input(input_shape)\n",
    "    #build convnet to use in each siamese 'leg'\n",
    "    convnet = Sequential()\n",
    "    convnet.add(Conv2D(64,(10,10),activation='relu',input_shape=input_shape,\n",
    "                       kernel_initializer=W_init,kernel_regularizer=l2(2e-4)))\n",
    "    convnet.add(MaxPooling2D())\n",
    "    convnet.add(Conv2D(128,(7,7),activation='relu',\n",
    "                       kernel_regularizer=l2(2e-4),kernel_initializer=W_init,bias_initializer=b_init))\n",
    "    convnet.add(MaxPooling2D())\n",
    "    convnet.add(Conv2D(128,(4,4),activation='relu',kernel_initializer=W_init,kernel_regularizer=l2(2e-4),bias_initializer=b_init))\n",
    "    convnet.add(MaxPooling2D())\n",
    "    convnet.add(Conv2D(256,(4,4),activation='relu',kernel_initializer=W_init,kernel_regularizer=l2(2e-4),bias_initializer=b_init))\n",
    "    convnet.add(Flatten())\n",
    "    convnet.add(Dense(4096,activation=\"sigmoid\",kernel_regularizer=l2(1e-3),kernel_initializer=W_init,bias_initializer=b_init))\n",
    "\n",
    "    #call the convnet Sequential model on each of the input tensors so params will be shared\n",
    "    encoded_l = convnet(left_input)\n",
    "    encoded_r = convnet(right_input)\n",
    "    #layer to merge two encoded inputs with the l1 distance between them\n",
    "    L1_layer = Lambda(lambda tensors:K.abs(tensors[0] - tensors[1]))\n",
    "    #call this layer on list of two input tensors.\n",
    "    L1_distance = L1_layer([encoded_l, encoded_r])\n",
    "    prediction = Dense(1,activation='sigmoid',bias_initializer=b_init)(L1_distance)\n",
    "    siamese_net = Model(inputs=[left_input,right_input],outputs=prediction)\n",
    "\n",
    "    optimizer = Adam(0.00006)\n",
    "    #//TODO: get layerwise learning rates and momentum annealing scheme described in paperworking\n",
    "    siamese_net.compile(loss=\"binary_crossentropy\",optimizer=optimizer)\n",
    "\n",
    "    siamese_net.count_params()\n",
    "    return siamese_net"
   ]
  },
  {
   "cell_type": "markdown",
   "metadata": {},
   "source": [
    "## Data \n",
    "The data is pickled as an N_classes x n_examples x width x height array, and there is an accompanyng dictionary to specify which indexes belong to which languages."
   ]
  },
  {
   "cell_type": "code",
   "execution_count": 6,
   "metadata": {},
   "outputs": [],
   "source": [
    "def load_data():\n",
    "    PATH = \"./\" #CHANGE THIS - path where the pickled data is stored\n",
    "\n",
    "\n",
    "    with open(os.path.join(PATH, \"sig_data_train.pickle\"), \"rb\") as f:\n",
    "        (X,c) = pickle.load(f)\n",
    "\n",
    "    with open(os.path.join(PATH, \"val.pickle\"), \"rb\") as f:\n",
    "        (Xval,cval) = pickle.load(f)\n",
    "\n",
    "    print(\"X's length {}\".format(len(X)))\n",
    "\n",
    "    # print(\"training alphabets\")  \n",
    "    # print(\"X's shape {}\".format(X.shape))\n",
    "    # print(\"training alphabets\")\n",
    "    # print(c.keys())\n",
    "    print(\"validation alphabets:\")\n",
    "    print(cval.keys())"
   ]
  },
  {
   "cell_type": "code",
   "execution_count": 7,
   "metadata": {
    "scrolled": false
   },
   "outputs": [],
   "source": [
    "class Siamese_Loader:\n",
    "    \"\"\"For loading batches and testing tasks to a siamese net\"\"\"\n",
    "    def __init__(self, path, data_subsets = [\"sig_data_train\", \"val\"]):\n",
    "        self.data = {}\n",
    "        self.author_dict = {}\n",
    "        self.info = {}\n",
    "        \n",
    "        for name in data_subsets:\n",
    "            file_path = os.path.join(path, name + \".pickle\")\n",
    "            print(\"loading data from {}\".format(file_path))\n",
    "            with open(file_path,\"rb\") as f:\n",
    "                (X,a) = pickle.load(f)\n",
    "                self.data[name] = X\n",
    "                self.author_dict[name] = a\n",
    "\n",
    "    def get_batch(self,batch_size,s=\"sig_data_train\"):\n",
    "        \"\"\"Create batch of n pairs, half same class, half different class\"\"\"\n",
    "        X=self.data[s]\n",
    "        author_dict = self.author_dict[s]\n",
    "        sig_examples = len(X)\n",
    "        author_examples = len(author_dict)\n",
    "        w,h = X[0].shape\n",
    "\n",
    "        #initialize 2 empty arrays for the input image batch\n",
    "        pairs=[np.zeros((batch_size, h, w,1)) for i in range(2)]\n",
    "        #initialize vector for the targets, and make one half of it '1's, so 2nd half of batch has same class\n",
    "        targets=np.ones((batch_size,))\n",
    "        targets[batch_size//2:] = 0\n",
    "        \n",
    "        i = 0\n",
    "        #pick images from same author for the first half input\n",
    "        while i < batch_size // 2:\n",
    "            author_id = rng.choice(list(author_dict))\n",
    "            num_of_index = len(author_dict[author_id])\n",
    "            if num_of_index <= 1:\n",
    "                continue\n",
    "            else:                \n",
    "                idx_1 = rng.randint(0, num_of_index)\n",
    "                idx_2 = rng.randint(0, num_of_index)\n",
    "                pairs[0][i,:,:,:] = X[author_dict[author_id][idx_1]].reshape(w, h, 1)\n",
    "                pairs[1][i,:,:,:] = X[author_dict[author_id][idx_2]].reshape(w, h, 1)\n",
    "                i += 1\n",
    "\n",
    "        #pick images from differnt author for the second half input\n",
    "        while i < batch_size:\n",
    "            author_id_1 = rng.choice(list(author_dict))\n",
    "            author_id_2 = rng.choice(list(author_dict))\n",
    "            if author_id_1 == author_id_2:\n",
    "                continue\n",
    "            else:\n",
    "                num_of_index_1 = len(author_dict[author_id_1])\n",
    "                num_of_index_2 = len(author_dict[author_id_2])\n",
    "                idx_1 = rng.randint(0, num_of_index_1)\n",
    "                idx_2 = rng.randint(0, num_of_index_2)\n",
    "                pairs[0][i,:,:,:] = X[author_dict[author_id_1][idx_1]].reshape(w, h, 1)\n",
    "                pairs[1][i,:,:,:] = X[author_dict[author_id_2][idx_2]].reshape(w, h, 1)\n",
    "                i += 1\n",
    "        return pairs, targets\n",
    "    \n",
    "    def generate(self, batch_size, s=\"train\"):\n",
    "        \"\"\"a generator for batches, so model.fit_generator can be used. \"\"\"\n",
    "        while True:\n",
    "            pairs, targets = self.get_batch(batch_size,s)\n",
    "            yield (pairs, targets)    \n",
    "\n",
    "    def make_oneshot_task(self,N,s=\"val\",language=None):\n",
    "        \"\"\"Create pairs of test image, support set for testing N way one-shot learning. \"\"\"\n",
    "        X=self.data[s]\n",
    "        n_classes, n_examples, w, h = X.shape\n",
    "        indices = rng.randint(0,n_examples,size=(N,))\n",
    "        if language is not None:\n",
    "            low, high = self.categories[s][language]\n",
    "            if N > high - low:\n",
    "                raise ValueError(\"This language ({}) has less than {} letters\".format(language, N))\n",
    "            categories = rng.choice(range(low,high),size=(N,),replace=False)\n",
    "            \n",
    "        else:#if no language specified just pick a bunch of random letters\n",
    "            categories = rng.choice(range(n_classes),size=(N,),replace=False)            \n",
    "        true_category = categories[0]\n",
    "        ex1, ex2 = rng.choice(n_examples,replace=False,size=(2,))\n",
    "        test_image = np.asarray([X[true_category,ex1,:,:]]*N).reshape(N, w, h,1)\n",
    "        support_set = X[categories,indices,:,:]\n",
    "        support_set[0,:,:] = X[true_category,ex2]\n",
    "        support_set = support_set.reshape(N, w, h,1)\n",
    "        targets = np.zeros((N,))\n",
    "        targets[0] = 1\n",
    "        targets, test_image, support_set = shuffle(targets, test_image, support_set)\n",
    "        pairs = [test_image,support_set]\n",
    "\n",
    "        return pairs, targets\n",
    "    \n",
    "    def test_oneshot(self,model,size,s=\"sig_data_train\"):\n",
    "        inputs, targets = self.get_batch(size,s)\n",
    "        #inputs, targets = shuffle(inputs, targets)\n",
    "        probs = model.predict(inputs)\n",
    "        probs = probs > 0.5\n",
    "        probs = probs.reshape(1,size)\n",
    "        corrects = np.sum(probs == targets)        \n",
    "        percent_correct = (100.0 * corrects / size)\n",
    "        print(\"Accuracy on {}: {}%  \".format(s, percent_correct))\n",
    "        return percent_correct\n",
    "    \n",
    "    def train(self, model, epochs, verbosity):\n",
    "        model.fit_generator(self.generate(batch_size),\n",
    "                            \n",
    "                             )\n",
    "    \n",
    "    \n"
   ]
  },
  {
   "cell_type": "code",
   "execution_count": 8,
   "metadata": {},
   "outputs": [],
   "source": [
    "\n",
    "def concat_images(X):\n",
    "    \"\"\"Concatenates a bunch of images into a big matrix for plotting purposes.\"\"\"\n",
    "    nc,h,w,_ = X.shape\n",
    "    X = X.reshape(nc,h,w)\n",
    "    n = np.ceil(np.sqrt(nc)).astype(\"int8\")\n",
    "    img = np.zeros((n*w,n*h))\n",
    "    x = 0\n",
    "    y = 0\n",
    "    for example in range(nc):\n",
    "        img[x*w:(x+1)*w,y*h:(y+1)*h] = X[example]\n",
    "        y += 1\n",
    "        if y >= n:\n",
    "            y = 0\n",
    "            x += 1\n",
    "    return img\n",
    "\n",
    "\n",
    "def plot_oneshot_task_original(pairs):\n",
    "    \"\"\"Takes a one-shot task given to a siamese net and  \"\"\"\n",
    "    fig,(ax1,ax2) = plt.subplots(2)\n",
    "    ax1.matshow(pairs[0][0].reshape(105,105),cmap='gray')\n",
    "    img = concat_images(pairs[1])\n",
    "    ax1.get_yaxis().set_visible(False)\n",
    "    ax1.get_xaxis().set_visible(False)\n",
    "    ax2.matshow(img,cmap='gray')\n",
    "    plt.xticks([])\n",
    "    plt.yticks([])\n",
    "    plt.show()\n",
    "\n",
    "def plot_batch_task(pairs):\n",
    "    \"\"\"Takes a one-shot task given to a siamese net and  \"\"\"\n",
    "    fig,(ax1,ax2,ax3,ax4,ax5,ax6,ax7,ax8) = plt.subplots(8)\n",
    "    \n",
    "    ax1.matshow(pairs[0][0].reshape(105,105),cmap='gray')\n",
    "#     img = concat_images(pairs[1])\n",
    "    ax1.get_yaxis().set_visible(False)\n",
    "    ax1.get_xaxis().set_visible(False)\n",
    "\n",
    "    ax2.matshow(pairs[1][0].reshape(105,105),cmap='gray')\n",
    "#     img = concat_images(pairs[1])\n",
    "    ax2.get_yaxis().set_visible(False)\n",
    "    ax2.get_xaxis().set_visible(False)\n",
    "    \n",
    "    ax3.matshow(pairs[0][4].reshape(105,105),cmap='gray')\n",
    "#     img = concat_images(pairs[1])\n",
    "    ax3.get_yaxis().set_visible(False)\n",
    "    ax3.get_xaxis().set_visible(False)\n",
    "\n",
    "    ax4.matshow(pairs[1][4].reshape(105,105),cmap='gray')\n",
    "#     img = concat_images(pairs[1])\n",
    "    ax4.get_yaxis().set_visible(False)\n",
    "    ax4.get_xaxis().set_visible(False)\n",
    "\n",
    "    ax5.matshow(pairs[0][5].reshape(105,105),cmap='gray')\n",
    "#     img = concat_images(pairs[1])\n",
    "    ax5.get_yaxis().set_visible(False)\n",
    "    ax5.get_xaxis().set_visible(False)\n",
    "\n",
    "    ax6.matshow(pairs[1][5].reshape(105,105),cmap='gray')\n",
    "#     img = concat_images(pairs[1])\n",
    "    ax6.get_yaxis().set_visible(False)\n",
    "    ax6.get_xaxis().set_visible(False)\n",
    "\n",
    "    \n",
    "    ax7.matshow(pairs[0][9].reshape(105,105),cmap='gray')\n",
    "#     img = concat_images(pairs[1])\n",
    "    ax7.get_yaxis().set_visible(False)\n",
    "    ax7.get_xaxis().set_visible(False)\n",
    "\n",
    "    ax8.matshow(pairs[1][9].reshape(105,105),cmap='gray')\n",
    "#     img = concat_images(pairs[1])\n",
    "    ax8.get_yaxis().set_visible(False)\n",
    "    ax8.get_xaxis().set_visible(False)\n",
    "\n",
    "    plt.xticks([])\n",
    "    plt.yticks([])\n",
    "    plt.show()\n"
   ]
  },
  {
   "cell_type": "code",
   "execution_count": 10,
   "metadata": {
    "scrolled": true
   },
   "outputs": [],
   "source": [
    "def train_model(num_iterations = 10, evaluate_step = 2, evaluation_size = 100):\n",
    "    batch_size = 32\n",
    "    best = -1\n",
    "    PATH = \".\"\n",
    "    loader = Siamese_Loader(PATH)\n",
    "    siamese_net = create_model()\n",
    "    weights_path = os.path.join(PATH, \"weights\")\n",
    "    print(\"Start training at: {}\".format(datetime.datetime.now()))\n",
    "    \n",
    "    costs_train = []\n",
    "    costs_val = []\n",
    "    accs_train = []\n",
    "    accs_val = []\n",
    "    for i in range(0, num_iterations):\n",
    "        (inputs,targets)=loader.get_batch(batch_size)\n",
    "        loss=siamese_net.train_on_batch(inputs,targets)\n",
    "        print (\"Traing cost after iteration %i: %f\" %(i, loss))\n",
    "        if i % evaluate_step == 0:\n",
    "            #loss on training data with size: 32\n",
    "            costs_train.append(loss)\n",
    "            \n",
    "            #loss on training data with size: 32\n",
    "            (inputs,targets) = loader.get_batch(batch_size,\"val\")\n",
    "            cost_val = siamese_net.test_on_batch(inputs, targets)\n",
    "            costs_val.append(cost_val)\n",
    "            \n",
    "            #accuracy on training data with default size: 100\n",
    "            acc_train = loader.test_oneshot(siamese_net,evaluation_size,\"sig_data_train\")\n",
    "            accs_train.append(acc_train)\n",
    "            \n",
    "            #accuracy on validation data with default size: 100\n",
    "            acc_val = loader.test_oneshot(siamese_net,evaluation_size,\"val\")\n",
    "            accs_val.append(acc_val)\n",
    "            \n",
    "            if acc_val >= best:\n",
    "                siamese_net.save(weights_path)\n",
    "                best=acc_val\n",
    "    print(\"End training at: {}\".format(datetime.datetime.now()))    \n",
    "    return costs_train, costs_val, accs_train, accs_val"
   ]
  },
  {
   "cell_type": "markdown",
   "metadata": {},
   "source": [
    "## Test Loader"
   ]
  },
  {
   "cell_type": "code",
   "execution_count": 27,
   "metadata": {},
   "outputs": [
    {
     "ename": "NameError",
     "evalue": "name 'PATH' is not defined",
     "output_type": "error",
     "traceback": [
      "\u001b[0;31m---------------------------------------------------------------------------\u001b[0m",
      "\u001b[0;31mNameError\u001b[0m                                 Traceback (most recent call last)",
      "\u001b[0;32m<ipython-input-27-b5f8ea9aa356>\u001b[0m in \u001b[0;36m<module>\u001b[0;34m()\u001b[0m\n\u001b[1;32m      1\u001b[0m \u001b[0;31m#Instantiate the class\u001b[0m\u001b[0;34m\u001b[0m\u001b[0;34m\u001b[0m\u001b[0m\n\u001b[0;32m----> 2\u001b[0;31m \u001b[0mloader\u001b[0m \u001b[0;34m=\u001b[0m \u001b[0mSiamese_Loader\u001b[0m\u001b[0;34m(\u001b[0m\u001b[0mPATH\u001b[0m\u001b[0;34m)\u001b[0m\u001b[0;34m\u001b[0m\u001b[0m\n\u001b[0m\u001b[1;32m      3\u001b[0m \u001b[0mpairs\u001b[0m\u001b[0;34m,\u001b[0m\u001b[0mtarget\u001b[0m \u001b[0;34m=\u001b[0m \u001b[0mloader\u001b[0m\u001b[0;34m.\u001b[0m\u001b[0mget_batch\u001b[0m\u001b[0;34m(\u001b[0m\u001b[0;36m10\u001b[0m\u001b[0;34m)\u001b[0m\u001b[0;34m\u001b[0m\u001b[0m\n\u001b[1;32m      4\u001b[0m \u001b[0mprint\u001b[0m\u001b[0;34m(\u001b[0m\u001b[0;34m\"No of pairs0 {}\"\u001b[0m\u001b[0;34m.\u001b[0m\u001b[0mformat\u001b[0m\u001b[0;34m(\u001b[0m\u001b[0mlen\u001b[0m\u001b[0;34m(\u001b[0m\u001b[0mpairs\u001b[0m\u001b[0;34m[\u001b[0m\u001b[0;36m0\u001b[0m\u001b[0;34m]\u001b[0m\u001b[0;34m)\u001b[0m\u001b[0;34m)\u001b[0m\u001b[0;34m)\u001b[0m\u001b[0;34m\u001b[0m\u001b[0m\n\u001b[1;32m      5\u001b[0m \u001b[0mprint\u001b[0m\u001b[0;34m(\u001b[0m\u001b[0;34m\"No of pairs1 {}\"\u001b[0m\u001b[0;34m.\u001b[0m\u001b[0mformat\u001b[0m\u001b[0;34m(\u001b[0m\u001b[0mlen\u001b[0m\u001b[0;34m(\u001b[0m\u001b[0mpairs\u001b[0m\u001b[0;34m[\u001b[0m\u001b[0;36m1\u001b[0m\u001b[0;34m]\u001b[0m\u001b[0;34m)\u001b[0m\u001b[0;34m)\u001b[0m\u001b[0;34m)\u001b[0m\u001b[0;34m\u001b[0m\u001b[0m\n",
      "\u001b[0;31mNameError\u001b[0m: name 'PATH' is not defined"
     ]
    }
   ],
   "source": [
    "#Instantiate the class\n",
    "PATH = \".\"\n",
    "loader = Siamese_Loader(PATH)\n",
    "pairs,target = loader.get_batch(10)\n",
    "print(\"No of pairs0 {}\".format(len(pairs[0])))\n",
    "print(\"No of pairs1 {}\".format(len(pairs[1])))\n",
    "print(\"target {}\".format(target))"
   ]
  },
  {
   "cell_type": "markdown",
   "metadata": {},
   "source": [
    "## Test Plot"
   ]
  },
  {
   "cell_type": "code",
   "execution_count": 26,
   "metadata": {},
   "outputs": [
    {
     "ename": "NameError",
     "evalue": "name 'loader' is not defined",
     "output_type": "error",
     "traceback": [
      "\u001b[0;31m---------------------------------------------------------------------------\u001b[0m",
      "\u001b[0;31mNameError\u001b[0m                                 Traceback (most recent call last)",
      "\u001b[0;32m<ipython-input-26-48e9f0c04a5f>\u001b[0m in \u001b[0;36m<module>\u001b[0;34m()\u001b[0m\n\u001b[1;32m      3\u001b[0m \u001b[0;31m# plot_oneshot_task(pairs)\u001b[0m\u001b[0;34m\u001b[0m\u001b[0;34m\u001b[0m\u001b[0m\n\u001b[1;32m      4\u001b[0m \u001b[0;34m\u001b[0m\u001b[0m\n\u001b[0;32m----> 5\u001b[0;31m \u001b[0mpairs\u001b[0m\u001b[0;34m,\u001b[0m \u001b[0mtargets\u001b[0m \u001b[0;34m=\u001b[0m \u001b[0mloader\u001b[0m\u001b[0;34m.\u001b[0m\u001b[0mget_batch\u001b[0m\u001b[0;34m(\u001b[0m\u001b[0;36m10\u001b[0m\u001b[0;34m)\u001b[0m\u001b[0;34m\u001b[0m\u001b[0m\n\u001b[0m\u001b[1;32m      6\u001b[0m \u001b[0mplot_batch_task\u001b[0m\u001b[0;34m(\u001b[0m\u001b[0mpairs\u001b[0m\u001b[0;34m)\u001b[0m\u001b[0;34m\u001b[0m\u001b[0m\n",
      "\u001b[0;31mNameError\u001b[0m: name 'loader' is not defined"
     ]
    }
   ],
   "source": [
    "#example of a one-shot learning task\n",
    "# pairs, targets = loader.make_oneshot_task(20,\"train\",\"Japanese_(katakana)\")\n",
    "# plot_oneshot_task(pairs)\n",
    "PATH = \".\"\n",
    "loader = Siamese_Loader(PATH)\n",
    "pairs, targets = loader.get_batch(10)\n",
    "plot_batch_task(pairs)"
   ]
  },
  {
   "cell_type": "markdown",
   "metadata": {
    "collapsed": true
   },
   "source": [
    "## Train Model"
   ]
  },
  {
   "cell_type": "code",
   "execution_count": 13,
   "metadata": {},
   "outputs": [
    {
     "data": {
      "image/png": "[encoded data removed]",
      "text/plain": [
       "<Figure size 432x288 with 1 Axes>"
      ]
     },
     "metadata": {},
     "output_type": "display_data"
    },
    {
     "data": {
      "image/png": "[encoded data removed]",
      "text/plain": [
       "<Figure size 432x288 with 1 Axes>"
      ]
     },
     "metadata": {},
     "output_type": "display_data"
    }
   ],
   "source": [
    "# costs_train, costs_val, accs_train, accs_val = train_model(2000,100)\n",
    "# accuracy_1 = [98,80,72,10,24]\n",
    "# accuracy_2 = [12,80,12,19,33]\n",
    "# accuracy_series = {\n",
    "#         \"train\": accuracy_1,\n",
    "#         \"val\": accuracy_2\n",
    "# }\n",
    "# pltutils.plot(accuracy_series, 3)\n",
    "pltutils.plot({\"costs_train\":costs_train,\n",
    "                   \"costs_val\":costs_val\n",
    "                  }, 100)\n",
    "pltutils.plot({\"accs_train\":accs_train,\n",
    "                   \"accs_val\":accs_val\n",
    "                  }, 100)"
   ]
  },
  {
   "cell_type": "code",
   "execution_count": null,
   "metadata": {},
   "outputs": [],
   "source": []
  }
 ],
 "metadata": {
  "celltoolbar": "Raw Cell Format",
  "kernelspec": {
   "display_name": "Python 3",
   "language": "python",
   "name": "python3"
  },
  "language_info": {
   "codemirror_mode": {
    "name": "ipython",
    "version": 3
   },
   "file_extension": ".py",
   "mimetype": "text/x-python",
   "name": "python",
   "nbconvert_exporter": "python",
   "pygments_lexer": "ipython3",
   "version": "3.6.5"
  }
 },
 "nbformat": 4,
 "nbformat_minor": 1
}
